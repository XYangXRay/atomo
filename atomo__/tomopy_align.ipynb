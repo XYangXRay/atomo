{
 "cells": [
  {
   "cell_type": "code",
   "execution_count": 1,
   "id": "a9b57a8b",
   "metadata": {},
   "outputs": [],
   "source": [
    "import numpy as np\n",
    "import tifffile\n",
    "import tomopy "
   ]
  },
  {
   "cell_type": "code",
   "execution_count": 2,
   "id": "20542fe5",
   "metadata": {},
   "outputs": [],
   "source": [
    "prj = tifffile.imread('/data/prj_alignment/small_FOV/prj_misalign_xz.tiff')"
   ]
  },
  {
   "cell_type": "code",
   "execution_count": 14,
   "id": "2e60c6a0",
   "metadata": {},
   "outputs": [],
   "source": [
    "prj = tifffile.imread('/data/prj_alignment/simulation/prj_misalign_xz_background.tiff')"
   ]
  },
  {
   "cell_type": "code",
   "execution_count": 4,
   "id": "406d5026",
   "metadata": {},
   "outputs": [],
   "source": [
    "ang = tomopy.angles(181)"
   ]
  },
  {
   "cell_type": "code",
   "execution_count": 5,
   "id": "fe8afdd4",
   "metadata": {},
   "outputs": [
    {
     "name": "stdout",
     "output_type": "stream",
     "text": [
      "iter=0, err=16.841615124446943\n",
      "iter=1, err=9.628083921528729\n",
      "iter=2, err=6.902173570694959\n",
      "iter=3, err=5.388877434122992\n",
      "iter=4, err=4.404543109109048\n",
      "iter=5, err=3.5791060336346563\n",
      "iter=6, err=2.925747767665559\n",
      "iter=7, err=2.4433583445741234\n",
      "iter=8, err=1.9183326093250876\n",
      "iter=9, err=1.5716233645501714\n"
     ]
    }
   ],
   "source": [
    "prj_align = tomopy.align_joint(prj, ang, iters=10, algorithm='sirt')"
   ]
  },
  {
   "cell_type": "code",
   "execution_count": 6,
   "id": "166ca1c7",
   "metadata": {},
   "outputs": [],
   "source": [
    "tifffile.imsave('/data/prj_alignment/small_FOV/xz_tomopy_align', prj_align[0])"
   ]
  },
  {
   "cell_type": "code",
   "execution_count": 9,
   "id": "23ca822b",
   "metadata": {},
   "outputs": [
    {
     "name": "stdout",
     "output_type": "stream",
     "text": [
      "(194, 222, 501)\n"
     ]
    }
   ],
   "source": [
    "print(prj_align[0].shape)"
   ]
  },
  {
   "cell_type": "code",
   "execution_count": 16,
   "id": "2ee93c11",
   "metadata": {},
   "outputs": [],
   "source": [
    "tifffile.imsave('/data/prj_alignment/simulation/xz_background_tomopy_align', prj_align[0])"
   ]
  },
  {
   "cell_type": "code",
   "execution_count": 9,
   "id": "4e855a09",
   "metadata": {},
   "outputs": [
    {
     "name": "stdout",
     "output_type": "stream",
     "text": [
      "iter=0, err=47.59296166451506\n",
      "iter=1, err=13.535508856337836\n",
      "iter=2, err=7.57231800705702\n",
      "iter=3, err=5.015974481593782\n",
      "iter=4, err=3.4014702703389896\n",
      "iter=5, err=2.3769728648009427\n",
      "iter=6, err=1.7663521732655694\n",
      "iter=7, err=1.1789826122551597\n",
      "iter=8, err=0.99498743710662\n",
      "iter=9, err=0.754983443527075\n"
     ]
    }
   ],
   "source": [
    "prj_seq = tomopy.align_seq(prj, ang, iters=10, algorithm='sirt')"
   ]
  },
  {
   "cell_type": "code",
   "execution_count": 10,
   "id": "9a161808",
   "metadata": {},
   "outputs": [],
   "source": [
    "tifffile.imsave('/data/prj_alignment/simulation/xza_tomopy_align_seq', prj_seq[0])"
   ]
  },
  {
   "cell_type": "code",
   "execution_count": 7,
   "id": "8f92d800",
   "metadata": {},
   "outputs": [],
   "source": [
    "rec = tomopy.recon(prj_align[0], ang, algorithm = 'gridrec')\n",
    "tifffile.imsave('/data/prj_alignment/small_FOV/rec_xz_tomopy_align.tiff', rec)"
   ]
  }
 ],
 "metadata": {
  "kernelspec": {
   "display_name": "Python 3 (ipykernel)",
   "language": "python",
   "name": "python3"
  },
  "language_info": {
   "codemirror_mode": {
    "name": "ipython",
    "version": 3
   },
   "file_extension": ".py",
   "mimetype": "text/x-python",
   "name": "python",
   "nbconvert_exporter": "python",
   "pygments_lexer": "ipython3",
   "version": "3.9.7"
  }
 },
 "nbformat": 4,
 "nbformat_minor": 5
}
