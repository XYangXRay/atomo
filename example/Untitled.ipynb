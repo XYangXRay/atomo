{
 "cells": [
  {
   "cell_type": "code",
   "execution_count": 1,
   "metadata": {},
   "outputs": [],
   "source": [
    "import numpy as np\n",
    "import matplotlib.pyplot as plt\n",
    "from scipy import linalg\n",
    "from scipy import signal\n",
    "from scipy.fftpack import fft, ifft, fftshift, ifftshift"
   ]
  },
  {
   "cell_type": "code",
   "execution_count": 2,
   "metadata": {},
   "outputs": [],
   "source": [
    "def stepFunc(x):\n",
    "    \"\"\"Heaviside function - couldn't find a native function that could handle arrays\"\"\"\n",
    "    y = 0.5*(np.sign(x)+1)\n",
    "    return y\n",
    "\n",
    "def arange2(start, stop=None, step=1):\n",
    "    \"\"\"#Modified version of numpy.arange which corrects error associated with non-integer step size\"\"\"\n",
    "    if stop == None:\n",
    "        a = np.arange(start)\n",
    "    else: \n",
    "        a = np.arange(start, stop, step)\n",
    "        if a[-1] > stop-step:   \n",
    "            a = np.delete(a, -1)\n",
    "    return a\n",
    "\n",
    "def nextpow2(x):\n",
    "    \"\"\"Finds the next highest power of 2 with respect to the input value, as in matlab. Advantageous for determining the minimum length of an fft or filter\"\"\"\n",
    "    n = 1\n",
    "    c = 1\n",
    "    while n < x:\n",
    "        n *= 2\n",
    "        c += 1\n",
    "    return c-1\n",
    "\n",
    "def hanWinFilt(x, fs, fc):\n",
    "    \"\"\"This multiples the spectrum of a signal by a hanning window for filtration\"\"\"\n",
    "    n = 2**nextpow2(len(x))     #make a power of 2\n",
    "    ftx = fft(x,n)\n",
    "    ftxs = fftshift(ftx)  #shift to easily multiply both positive and negative components by window \n",
    "    fv = fs*(np.arange(n)+1)/n\n",
    "    fvt = fv[0:np.int(n/2)] \n",
    "        \n",
    "    W = 0.5+0.5*np.cos(np.pi*fvt/fc); #calculate half of hanning window\n",
    "    W[np.nonzero(fvt > fc)] = 0   #apply cutoff\n",
    "    Wm = np.flipud(W)\n",
    "    W2 = np.concatenate((Wm, W),0)  #create full window \n",
    "    p = ifft(ifftshift(W2*ftxs))  #apply filter, undo fft shift, convert back to time domain\n",
    "    pt = p[0:len(x)]  #remove zeropadding\n",
    "    return np.real(pt)\n",
    "\n",
    "def getSignals(tarInfo, xd, t, c=1484):\n",
    "    \"\"\"Simulate the signals recorded by a detector array from a single spherical target\"\"\"\n",
    "    yd = xd.copy()\n",
    "    detLen = 2e-3 #length of square detector \n",
    "    numSubdet = 25  #make a square of odd number (1,9,25,49,81...)\n",
    "    numSdX = int(np.sqrt(numSubdet))  #number of subdetectors per dimension (25 detectors is 5x5)\n",
    "    sdPitch = detLen/np.sqrt(numSubdet) #subdetector pitch\n",
    "    sdInd = np.arange(numSdX)-(numSdX-1)/2  #index array for subdetectors - for numSdX = 5, sdInd = [-2,-1,0,1,2]\n",
    "    sdInd = sdInd.astype(int)  #convert array to integers\n",
    "    sdOffset = sdPitch*sdInd  #offset distance of subdetectors from center of detector (1-D)\n",
    "\n",
    "    fs = 1/(t[1]-t[0]) #sampling freq\n",
    "    fc = 4e6  #filter cutoff freq\n",
    "\n",
    "    prec = np.empty([len(t),len(xd),len(yd)])  #pre-allocation of signal array\n",
    "    for xi in range(len(xd)):\n",
    "        for yi in range(len(yd)):  #index detector\n",
    "            paSig = 0\n",
    "            for m in range(numSdX):  #goal: sum across subdetectors\n",
    "                for n in range(numSdX):  #index subdetector\n",
    "                    detXYZ = np.array([xd[xi]+sdOffset[m],yd[yi]+sdOffset[n],0])  #position of subdetector\n",
    "                    tarXYZ = tarInfo[0:3]  #target position [x,y,z]\n",
    "                    R = linalg.norm(detXYZ-tarXYZ)   #distance between subdetector and target\n",
    "                    tarRad = tarInfo[3]  #target radius\n",
    "                    paSig = paSig + stepFunc(tarRad-abs(R-c*t))*(R-c*t)/(2*R)  #generation of photoacoustic signal\n",
    "            pr = paSig/numSubdet; #average signal across subdetectors\n",
    "            prec[:,xi,yi] = hanWinFilt(pr, fs, fc) #filter\n",
    "    return prec\n",
    "\n",
    "def perfTomog(prec, xd, t, zTargs, c=1484):\n",
    "    res = 500e-6 #350e-6  #desired spatial resolution (m)\n",
    "    xf = arange2(xd[0],xd[-1]+res,res) # (m) choose reconstruction space to be directly above detector array\n",
    "    yf = xf.copy() \n",
    "    zf = np.array([zTargs]); #z location of targets, set as target plane by default. You can create a 3-D field by making this an array\n",
    "    Yf, Xf, Zf = np.meshgrid(yf, xf, zf)\n",
    "    Zf2 = Zf**2\n",
    "\n",
    "    fs = 1/(t[1]-t[0])  #sampl freq\n",
    "    NFFT = 2**nextpow2(prec.shape[0])\n",
    "    fv = fs/2*np.linspace(0,1,NFFT/2+1)\n",
    "    fv2 = -np.flipud(fv)  #for\n",
    "    fv2 = np.delete(fv2,0)\n",
    "    fv2 = np.delete(fv2,-1)\n",
    "    fv3 = np.concatenate((fv,fv2),0)  #ramp filter for positive and negative freq components\n",
    "    k = 2*np.pi*fv3/c #wave vector\n",
    "\n",
    "    ds = (2e-3)**2  #active area of sensor\n",
    "    pf = np.empty([len(k)])\n",
    "    pnum = 0\n",
    "    pden = 0\n",
    "    yd = xd.copy()\n",
    "    \n",
    "    for xi in range(len(xd)):\n",
    "        X2 = (Xf-xd[xi])**2  \n",
    "        for yi in range(len(yd)):  #index detector\n",
    "            dist = np.sqrt(X2+(Yf-yd[yi])**2+Zf2) #distance from detector to each pixel in imaging field\n",
    "            distind = np.round(dist*(fs/c)) #convert distance to index\n",
    "            distind = distind.astype(int) #convert to integer for indexing\n",
    "            p = prec[:,xi,yi]\n",
    "            pf = ifft(-1j*k*fft(p,NFFT)) #apply ramp filter\n",
    "            b = 2*p-2*t*c*pf[0:len(p)]\n",
    "            b1 = b[distind-1]  #subtracted 1 to be consistent with Matlab result wherein indexing begins at 1    \n",
    "            omega = (ds/dist**2)*Zf/dist\n",
    "            pnum = pnum + omega*b1\n",
    "            pden = pden + omega\n",
    "        print('Reconstructing image with detector row',len(xd)-xi)\n",
    "    pg = pnum/pden\n",
    "    pgmax = pg[np.nonzero(np.abs(pg) == np.amax(abs(pg)))]   #np.amax(complex array) will return the element with maximum real value, not maximum absolute value as in Matlab\n",
    "    pfnorm = np.real(pg/pgmax)\n",
    "    return pfnorm, xf, yf, zf\n",
    "\n",
    "def tomPlot2D(data, x, y, dr):\n",
    "    \"\"\"Plot (1) image in dB with user-specified dynamic range, dr and (2) two orthogonal 1-D slices through middle of non-log data\"\"\"\n",
    "    pfnormlog = 20*np.log10(np.abs(data))\n",
    "    pfnormlog = np.transpose(np.squeeze(pfnormlog))  #reduce to 2-dimensions, transposed to match plot in paper\n",
    "    \n",
    "    fig1 = plt.figure()\n",
    "    plt.imshow(pfnormlog, extent=[x[0]*1e3,x[-1]*1e3,y[-1]*1e3,y[0]*1e3], vmin=-dr, vmax=0, cmap='gray')\n",
    "    plt.xlabel('x(mm)')\n",
    "    plt.ylabel('y(mm)')\n",
    "    plt.colorbar()  \n",
    "\n",
    "    fig2, (ax1, ax2) = plt.subplots(1,2)\n",
    "    xPlotInd = int(round(len(x)/2))\n",
    "    ax1.plot(y*1e3, data[xPlotInd,:])\n",
    "    yPlotInd = int(round(len(y)/2))\n",
    "    ax2.plot(x*1e3, data[:,yPlotInd])\n",
    "    ax1.set_xlabel('y(mm)')\n",
    "    xval = round(x[xPlotInd]*1e3)\n",
    "    ax1.set_title('x = '+ str(xval) + ' mm')\n",
    "    ax2.set_xlabel('x(mm)')\n",
    "    yval = round(y[yPlotInd]*1e3)\n",
    "    ax2.set_title('y = ' + str(yval)+ ' mm')\n",
    "    \n",
    "    plt.show()\n",
    "    return"
   ]
  },
  {
   "cell_type": "code",
   "execution_count": 23,
   "metadata": {},
   "outputs": [
    {
     "name": "stdout",
     "output_type": "stream",
     "text": [
      "(1301,)\n"
     ]
    }
   ],
   "source": [
    "zTargs = 15  #target plane height (mm)\n",
    "tarInfo = 1e-3*np.array([[18, 0, zTargs, 1.5],[-18, 0, zTargs, 1.5],\n",
    "                         [9, 0, zTargs, 1.5],[-9, 0, zTargs, 1.5],\n",
    "                         [0, 0, zTargs, 1.5],[0, 12, zTargs, 4],\n",
    "                         [0, -12, zTargs, 4]]); \n",
    "\n",
    "    #define central positions of detectors\n",
    "aperLen = 60e-3  #aperture length\n",
    "detPitch = (2/float(3))*1e-3 #step size when scanning individual detector\n",
    "xd = arange2(-aperLen/2, aperLen/2+detPitch,detPitch)  #x coordinate of detector position\n",
    "\n",
    "fs = 20e6 #sampling frequency (Hz)\n",
    "ts = 1/fs #sampling period\n",
    "t = arange2(0, 65e-6+ts, ts)  \n",
    "print t.shape\n"
   ]
  },
  {
   "cell_type": "code",
   "execution_count": null,
   "metadata": {},
   "outputs": [],
   "source": []
  },
  {
   "cell_type": "code",
   "execution_count": 7,
   "metadata": {},
   "outputs": [
    {
     "name": "stdout",
     "output_type": "stream",
     "text": [
      "(91,)\n"
     ]
    }
   ],
   "source": [
    "print xd.shape"
   ]
  },
  {
   "cell_type": "code",
   "execution_count": 5,
   "metadata": {},
   "outputs": [
    {
     "name": "stdout",
     "output_type": "stream",
     "text": [
      "(7, 4)\n"
     ]
    }
   ],
   "source": [
    "print tarInfo.shape"
   ]
  },
  {
   "cell_type": "code",
   "execution_count": 24,
   "metadata": {},
   "outputs": [
    {
     "name": "stdout",
     "output_type": "stream",
     "text": [
      "('Generating recorded signals arising from target', 1, 'of', 7)\n"
     ]
    }
   ],
   "source": [
    "#time vector\n",
    "sigs = 0\n",
    "for jj in range(1):\n",
    "    print('Generating recorded signals arising from target', jj+1, 'of', tarInfo.shape[0])\n",
    "    sigs = sigs + getSignals(tarInfo[jj,:], xd, t)        "
   ]
  },
  {
   "cell_type": "code",
   "execution_count": 21,
   "metadata": {},
   "outputs": [
    {
     "name": "stdout",
     "output_type": "stream",
     "text": [
      "(121, 91, 91)\n"
     ]
    }
   ],
   "source": [
    "print sigs.shape"
   ]
  },
  {
   "cell_type": "code",
   "execution_count": 14,
   "metadata": {},
   "outputs": [],
   "source": [
    "import dxchange \n",
    "dxchange.write_tiff(sigs, '/Users/xiaogangyang/Desktop/pat_sig', dtype = 'float32')"
   ]
  },
  {
   "cell_type": "code",
   "execution_count": 28,
   "metadata": {},
   "outputs": [
    {
     "data": {
      "image/png": "[encoded data removed]",
      "text/plain": [
       "<Figure size 432x288 with 1 Axes>"
      ]
     },
     "metadata": {},
     "output_type": "display_data"
    }
   ],
   "source": [
    "plt.imshow(sigs[:,:,10])\n",
    "plt.show()"
   ]
  },
  {
   "cell_type": "code",
   "execution_count": 8,
   "metadata": {},
   "outputs": [
    {
     "name": "stdout",
     "output_type": "stream",
     "text": [
      "(1301, 91, 91)\n"
     ]
    }
   ],
   "source": [
    "print sigs.shape"
   ]
  },
  {
   "cell_type": "code",
   "execution_count": 26,
   "metadata": {},
   "outputs": [
    {
     "name": "stdout",
     "output_type": "stream",
     "text": [
      "('Reconstructing image with detector row', 91)\n",
      "('Reconstructing image with detector row', 90)\n",
      "('Reconstructing image with detector row', 89)\n",
      "('Reconstructing image with detector row', 88)\n",
      "('Reconstructing image with detector row', 87)\n",
      "('Reconstructing image with detector row', 86)\n",
      "('Reconstructing image with detector row', 85)\n",
      "('Reconstructing image with detector row', 84)\n",
      "('Reconstructing image with detector row', 83)\n",
      "('Reconstructing image with detector row', 82)\n",
      "('Reconstructing image with detector row', 81)\n",
      "('Reconstructing image with detector row', 80)\n",
      "('Reconstructing image with detector row', 79)\n",
      "('Reconstructing image with detector row', 78)\n",
      "('Reconstructing image with detector row', 77)\n",
      "('Reconstructing image with detector row', 76)\n",
      "('Reconstructing image with detector row', 75)\n",
      "('Reconstructing image with detector row', 74)\n",
      "('Reconstructing image with detector row', 73)\n",
      "('Reconstructing image with detector row', 72)\n",
      "('Reconstructing image with detector row', 71)\n",
      "('Reconstructing image with detector row', 70)\n",
      "('Reconstructing image with detector row', 69)\n",
      "('Reconstructing image with detector row', 68)\n",
      "('Reconstructing image with detector row', 67)\n",
      "('Reconstructing image with detector row', 66)\n",
      "('Reconstructing image with detector row', 65)\n",
      "('Reconstructing image with detector row', 64)\n",
      "('Reconstructing image with detector row', 63)\n",
      "('Reconstructing image with detector row', 62)\n",
      "('Reconstructing image with detector row', 61)\n",
      "('Reconstructing image with detector row', 60)\n",
      "('Reconstructing image with detector row', 59)\n",
      "('Reconstructing image with detector row', 58)\n",
      "('Reconstructing image with detector row', 57)\n",
      "('Reconstructing image with detector row', 56)\n",
      "('Reconstructing image with detector row', 55)\n",
      "('Reconstructing image with detector row', 54)\n",
      "('Reconstructing image with detector row', 53)\n",
      "('Reconstructing image with detector row', 52)\n",
      "('Reconstructing image with detector row', 51)\n",
      "('Reconstructing image with detector row', 50)\n",
      "('Reconstructing image with detector row', 49)\n",
      "('Reconstructing image with detector row', 48)\n",
      "('Reconstructing image with detector row', 47)\n",
      "('Reconstructing image with detector row', 46)\n",
      "('Reconstructing image with detector row', 45)\n",
      "('Reconstructing image with detector row', 44)\n",
      "('Reconstructing image with detector row', 43)\n",
      "('Reconstructing image with detector row', 42)\n",
      "('Reconstructing image with detector row', 41)\n",
      "('Reconstructing image with detector row', 40)\n",
      "('Reconstructing image with detector row', 39)\n",
      "('Reconstructing image with detector row', 38)\n",
      "('Reconstructing image with detector row', 37)\n",
      "('Reconstructing image with detector row', 36)\n",
      "('Reconstructing image with detector row', 35)\n",
      "('Reconstructing image with detector row', 34)\n",
      "('Reconstructing image with detector row', 33)\n",
      "('Reconstructing image with detector row', 32)\n",
      "('Reconstructing image with detector row', 31)\n",
      "('Reconstructing image with detector row', 30)\n",
      "('Reconstructing image with detector row', 29)\n",
      "('Reconstructing image with detector row', 28)\n",
      "('Reconstructing image with detector row', 27)\n",
      "('Reconstructing image with detector row', 26)\n",
      "('Reconstructing image with detector row', 25)\n",
      "('Reconstructing image with detector row', 24)\n",
      "('Reconstructing image with detector row', 23)\n",
      "('Reconstructing image with detector row', 22)\n",
      "('Reconstructing image with detector row', 21)\n",
      "('Reconstructing image with detector row', 20)\n",
      "('Reconstructing image with detector row', 19)\n",
      "('Reconstructing image with detector row', 18)\n",
      "('Reconstructing image with detector row', 17)\n",
      "('Reconstructing image with detector row', 16)\n",
      "('Reconstructing image with detector row', 15)\n",
      "('Reconstructing image with detector row', 14)\n",
      "('Reconstructing image with detector row', 13)\n",
      "('Reconstructing image with detector row', 12)\n",
      "('Reconstructing image with detector row', 11)\n",
      "('Reconstructing image with detector row', 10)\n",
      "('Reconstructing image with detector row', 9)\n",
      "('Reconstructing image with detector row', 8)\n",
      "('Reconstructing image with detector row', 7)\n",
      "('Reconstructing image with detector row', 6)\n",
      "('Reconstructing image with detector row', 5)\n",
      "('Reconstructing image with detector row', 4)\n",
      "('Reconstructing image with detector row', 3)\n",
      "('Reconstructing image with detector row', 2)\n",
      "('Reconstructing image with detector row', 1)\n"
     ]
    }
   ],
   "source": [
    "pfnorm, xf, yf, zf = perfTomog(sigs, xd, t, zTargs*1e-3)"
   ]
  },
  {
   "cell_type": "code",
   "execution_count": 10,
   "metadata": {},
   "outputs": [
    {
     "name": "stdout",
     "output_type": "stream",
     "text": [
      "(120, 120, 1)\n"
     ]
    }
   ],
   "source": [
    "print pfnorm.shape"
   ]
  },
  {
   "cell_type": "code",
   "execution_count": 27,
   "metadata": {},
   "outputs": [
    {
     "data": {
      "image/png": "[encoded data removed]",
      "text/plain": [
       "<Figure size 432x288 with 2 Axes>"
      ]
     },
     "metadata": {},
     "output_type": "display_data"
    },
    {
     "data": {
      "image/png": "[encoded data removed]",
      "text/plain": [
       "<Figure size 432x288 with 2 Axes>"
      ]
     },
     "metadata": {},
     "output_type": "display_data"
    }
   ],
   "source": [
    "tomPlot2D(pfnorm, xf, yf, 6)"
   ]
  }
 ],
 "metadata": {
  "kernelspec": {
   "display_name": "Python 2",
   "language": "python",
   "name": "python2"
  },
  "language_info": {
   "codemirror_mode": {
    "name": "ipython",
    "version": 2
   },
   "file_extension": ".py",
   "mimetype": "text/x-python",
   "name": "python",
   "nbconvert_exporter": "python",
   "pygments_lexer": "ipython2",
   "version": "2.7.15"
  }
 },
 "nbformat": 4,
 "nbformat_minor": 2
}
